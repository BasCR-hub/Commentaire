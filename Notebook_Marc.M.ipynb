{
 "cells": [
  {
   "cell_type": "code",
   "execution_count": 37,
   "metadata": {},
   "outputs": [],
   "source": [
    "import nltk\n",
    "import numpy as np \n",
    "import pandas as pd \n",
    "\n",
    "from sklearn import preprocessing\n",
    "from sklearn.feature_extraction.text import CountVectorizer\n",
    "from sklearn.model_selection import train_test_split\n",
    "from sklearn.linear_model import LogisticRegression\n",
    "from sklearn.metrics import confusion_matrix\n",
    "from sklearn.metrics import accuracy_score\n",
    "\n",
    "import matplotlib.pyplot as plt \n",
    "\n",
    "import seaborn as sns\n",
    "sns.set(style=\"white\") #white background style for seaborn plots\n",
    "sns.set(style=\"whitegrid\", color_codes=True)"
   ]
  },
  {
   "cell_type": "code",
   "execution_count": 3,
   "metadata": {},
   "outputs": [
    {
     "data": {
      "text/html": [
       "<div>\n",
       "<style scoped>\n",
       "    .dataframe tbody tr th:only-of-type {\n",
       "        vertical-align: middle;\n",
       "    }\n",
       "\n",
       "    .dataframe tbody tr th {\n",
       "        vertical-align: top;\n",
       "    }\n",
       "\n",
       "    .dataframe thead th {\n",
       "        text-align: right;\n",
       "    }\n",
       "</style>\n",
       "<table border=\"1\" class=\"dataframe\">\n",
       "  <thead>\n",
       "    <tr style=\"text-align: right;\">\n",
       "      <th></th>\n",
       "      <th>Unnamed: 0</th>\n",
       "      <th>comment</th>\n",
       "      <th>rating</th>\n",
       "      <th>bonus_info</th>\n",
       "      <th>city</th>\n",
       "      <th>sentiment</th>\n",
       "    </tr>\n",
       "  </thead>\n",
       "  <tbody>\n",
       "    <tr>\n",
       "      <td>0</td>\n",
       "      <td>1</td>\n",
       "      <td>Accueil sympa pas mal d’attente au final le ke...</td>\n",
       "      <td>3.0</td>\n",
       "      <td>Détails FOURCHETTE DE PRIX 2 895 AMD - 12 061 ...</td>\n",
       "      <td>Paris</td>\n",
       "      <td>Neutral</td>\n",
       "    </tr>\n",
       "    <tr>\n",
       "      <td>1</td>\n",
       "      <td>7</td>\n",
       "      <td>L’accueil est bonne mais les sandwichs mauvais...</td>\n",
       "      <td>1.0</td>\n",
       "      <td>Détails FOURCHETTE DE PRIX 2 895 AMD - 12 061 ...</td>\n",
       "      <td>Paris</td>\n",
       "      <td>Negative</td>\n",
       "    </tr>\n",
       "    <tr>\n",
       "      <td>2</td>\n",
       "      <td>1</td>\n",
       "      <td>En balade dans le quartier nous cherchons un k...</td>\n",
       "      <td>3.0</td>\n",
       "      <td>Détails FOURCHETTE DE PRIX 2 895 AMD - 12 061 ...</td>\n",
       "      <td>Paris</td>\n",
       "      <td>Neutral</td>\n",
       "    </tr>\n",
       "    <tr>\n",
       "      <td>3</td>\n",
       "      <td>6</td>\n",
       "      <td>kebab identique à ailleurs cela reste un kebab...</td>\n",
       "      <td>3.0</td>\n",
       "      <td>Détails FOURCHETTE DE PRIX 2 895 AMD - 12 061 ...</td>\n",
       "      <td>Paris</td>\n",
       "      <td>Neutral</td>\n",
       "    </tr>\n",
       "    <tr>\n",
       "      <td>4</td>\n",
       "      <td>5</td>\n",
       "      <td>Au moment où je rédige cet avis le restaurant ...</td>\n",
       "      <td>1.0</td>\n",
       "      <td>Détails FOURCHETTE DE PRIX 2 895 AMD - 12 061 ...</td>\n",
       "      <td>Paris</td>\n",
       "      <td>Negative</td>\n",
       "    </tr>\n",
       "  </tbody>\n",
       "</table>\n",
       "</div>"
      ],
      "text/plain": [
       "   Unnamed: 0                                            comment  rating  \\\n",
       "0           1  Accueil sympa pas mal d’attente au final le ke...     3.0   \n",
       "1           7  L’accueil est bonne mais les sandwichs mauvais...     1.0   \n",
       "2           1  En balade dans le quartier nous cherchons un k...     3.0   \n",
       "3           6  kebab identique à ailleurs cela reste un kebab...     3.0   \n",
       "4           5  Au moment où je rédige cet avis le restaurant ...     1.0   \n",
       "\n",
       "                                          bonus_info   city sentiment  \n",
       "0  Détails FOURCHETTE DE PRIX 2 895 AMD - 12 061 ...  Paris   Neutral  \n",
       "1  Détails FOURCHETTE DE PRIX 2 895 AMD - 12 061 ...  Paris  Negative  \n",
       "2  Détails FOURCHETTE DE PRIX 2 895 AMD - 12 061 ...  Paris   Neutral  \n",
       "3  Détails FOURCHETTE DE PRIX 2 895 AMD - 12 061 ...  Paris   Neutral  \n",
       "4  Détails FOURCHETTE DE PRIX 2 895 AMD - 12 061 ...  Paris  Negative  "
      ]
     },
     "execution_count": 3,
     "metadata": {},
     "output_type": "execute_result"
    }
   ],
   "source": [
    "df = pd.read_csv('resampled_comments (1).csv')\n",
    "df.head()"
   ]
  },
  {
   "cell_type": "code",
   "execution_count": 4,
   "metadata": {},
   "outputs": [
    {
     "data": {
      "text/html": [
       "<div>\n",
       "<style scoped>\n",
       "    .dataframe tbody tr th:only-of-type {\n",
       "        vertical-align: middle;\n",
       "    }\n",
       "\n",
       "    .dataframe tbody tr th {\n",
       "        vertical-align: top;\n",
       "    }\n",
       "\n",
       "    .dataframe thead th {\n",
       "        text-align: right;\n",
       "    }\n",
       "</style>\n",
       "<table border=\"1\" class=\"dataframe\">\n",
       "  <thead>\n",
       "    <tr style=\"text-align: right;\">\n",
       "      <th></th>\n",
       "      <th>comment</th>\n",
       "      <th>rating</th>\n",
       "    </tr>\n",
       "  </thead>\n",
       "  <tbody>\n",
       "    <tr>\n",
       "      <td>0</td>\n",
       "      <td>Accueil sympa pas mal d’attente au final le ke...</td>\n",
       "      <td>3.0</td>\n",
       "    </tr>\n",
       "    <tr>\n",
       "      <td>1</td>\n",
       "      <td>L’accueil est bonne mais les sandwichs mauvais...</td>\n",
       "      <td>1.0</td>\n",
       "    </tr>\n",
       "    <tr>\n",
       "      <td>2</td>\n",
       "      <td>En balade dans le quartier nous cherchons un k...</td>\n",
       "      <td>3.0</td>\n",
       "    </tr>\n",
       "    <tr>\n",
       "      <td>3</td>\n",
       "      <td>kebab identique à ailleurs cela reste un kebab...</td>\n",
       "      <td>3.0</td>\n",
       "    </tr>\n",
       "    <tr>\n",
       "      <td>4</td>\n",
       "      <td>Au moment où je rédige cet avis le restaurant ...</td>\n",
       "      <td>1.0</td>\n",
       "    </tr>\n",
       "    <tr>\n",
       "      <td>5</td>\n",
       "      <td>Comment reconnaître des avis laissés par un pa...</td>\n",
       "      <td>1.0</td>\n",
       "    </tr>\n",
       "    <tr>\n",
       "      <td>6</td>\n",
       "      <td>Ce n’est pas possible que cet endroit soit cla...</td>\n",
       "      <td>1.0</td>\n",
       "    </tr>\n",
       "    <tr>\n",
       "      <td>7</td>\n",
       "      <td>Très surpris du nombre de profil avec 1 seul c...</td>\n",
       "      <td>1.0</td>\n",
       "    </tr>\n",
       "    <tr>\n",
       "      <td>8</td>\n",
       "      <td>Pas de salle juste deux tabourets a la limite ...</td>\n",
       "      <td>1.0</td>\n",
       "    </tr>\n",
       "    <tr>\n",
       "      <td>9</td>\n",
       "      <td>Je suis allée dans ce kebab après avoir vu les...</td>\n",
       "      <td>1.0</td>\n",
       "    </tr>\n",
       "  </tbody>\n",
       "</table>\n",
       "</div>"
      ],
      "text/plain": [
       "                                             comment  rating\n",
       "0  Accueil sympa pas mal d’attente au final le ke...     3.0\n",
       "1  L’accueil est bonne mais les sandwichs mauvais...     1.0\n",
       "2  En balade dans le quartier nous cherchons un k...     3.0\n",
       "3  kebab identique à ailleurs cela reste un kebab...     3.0\n",
       "4  Au moment où je rédige cet avis le restaurant ...     1.0\n",
       "5  Comment reconnaître des avis laissés par un pa...     1.0\n",
       "6  Ce n’est pas possible que cet endroit soit cla...     1.0\n",
       "7  Très surpris du nombre de profil avec 1 seul c...     1.0\n",
       "8  Pas de salle juste deux tabourets a la limite ...     1.0\n",
       "9  Je suis allée dans ce kebab après avoir vu les...     1.0"
      ]
     },
     "execution_count": 4,
     "metadata": {},
     "output_type": "execute_result"
    }
   ],
   "source": [
    "comments = df[['comment', 'rating']]\n",
    "comments.head(10)"
   ]
  },
  {
   "cell_type": "code",
   "execution_count": 5,
   "metadata": {},
   "outputs": [
    {
     "data": {
      "text/html": [
       "<div>\n",
       "<style scoped>\n",
       "    .dataframe tbody tr th:only-of-type {\n",
       "        vertical-align: middle;\n",
       "    }\n",
       "\n",
       "    .dataframe tbody tr th {\n",
       "        vertical-align: top;\n",
       "    }\n",
       "\n",
       "    .dataframe thead th {\n",
       "        text-align: right;\n",
       "    }\n",
       "</style>\n",
       "<table border=\"1\" class=\"dataframe\">\n",
       "  <thead>\n",
       "    <tr style=\"text-align: right;\">\n",
       "      <th></th>\n",
       "      <th>comment</th>\n",
       "      <th>rating</th>\n",
       "    </tr>\n",
       "  </thead>\n",
       "  <tbody>\n",
       "    <tr>\n",
       "      <td>8310</td>\n",
       "      <td>Super bon poulet rôti avec frites 🍟 on a pris ...</td>\n",
       "      <td>5.0</td>\n",
       "    </tr>\n",
       "    <tr>\n",
       "      <td>8311</td>\n",
       "      <td>Un pur moment une pure soirée je pourrais tout...</td>\n",
       "      <td>5.0</td>\n",
       "    </tr>\n",
       "    <tr>\n",
       "      <td>8312</td>\n",
       "      <td>Je déjeune régulièrement à La Gourmandise avec...</td>\n",
       "      <td>5.0</td>\n",
       "    </tr>\n",
       "    <tr>\n",
       "      <td>8313</td>\n",
       "      <td>Nous avons passés un moment très agréable. Un ...</td>\n",
       "      <td>5.0</td>\n",
       "    </tr>\n",
       "    <tr>\n",
       "      <td>8314</td>\n",
       "      <td>Des raviolis vietnamiens excellents et le supe...</td>\n",
       "      <td>5.0</td>\n",
       "    </tr>\n",
       "    <tr>\n",
       "      <td>...</td>\n",
       "      <td>...</td>\n",
       "      <td>...</td>\n",
       "    </tr>\n",
       "    <tr>\n",
       "      <td>13305</td>\n",
       "      <td>Ce n'est pas difficile face à l'Elysee vous re...</td>\n",
       "      <td>5.0</td>\n",
       "    </tr>\n",
       "    <tr>\n",
       "      <td>13306</td>\n",
       "      <td>Nous avons vraiment passé un excellent moment ...</td>\n",
       "      <td>5.0</td>\n",
       "    </tr>\n",
       "    <tr>\n",
       "      <td>13307</td>\n",
       "      <td>Nous arrivons au service de 21h heure à laquel...</td>\n",
       "      <td>5.0</td>\n",
       "    </tr>\n",
       "    <tr>\n",
       "      <td>13308</td>\n",
       "      <td>Ici comme à l'Eden Roc ou dans un autre hotel ...</td>\n",
       "      <td>5.0</td>\n",
       "    </tr>\n",
       "    <tr>\n",
       "      <td>13309</td>\n",
       "      <td>Excellente pizzaria. Un accueil très chaleureu...</td>\n",
       "      <td>5.0</td>\n",
       "    </tr>\n",
       "  </tbody>\n",
       "</table>\n",
       "<p>5000 rows × 2 columns</p>\n",
       "</div>"
      ],
      "text/plain": [
       "                                                 comment  rating\n",
       "8310   Super bon poulet rôti avec frites 🍟 on a pris ...     5.0\n",
       "8311   Un pur moment une pure soirée je pourrais tout...     5.0\n",
       "8312   Je déjeune régulièrement à La Gourmandise avec...     5.0\n",
       "8313   Nous avons passés un moment très agréable. Un ...     5.0\n",
       "8314   Des raviolis vietnamiens excellents et le supe...     5.0\n",
       "...                                                  ...     ...\n",
       "13305  Ce n'est pas difficile face à l'Elysee vous re...     5.0\n",
       "13306  Nous avons vraiment passé un excellent moment ...     5.0\n",
       "13307  Nous arrivons au service de 21h heure à laquel...     5.0\n",
       "13308  Ici comme à l'Eden Roc ou dans un autre hotel ...     5.0\n",
       "13309  Excellente pizzaria. Un accueil très chaleureu...     5.0\n",
       "\n",
       "[5000 rows x 2 columns]"
      ]
     },
     "execution_count": 5,
     "metadata": {},
     "output_type": "execute_result"
    }
   ],
   "source": [
    "comments_posit = comments[comments.rating >= 4]\n",
    "comments_posit"
   ]
  },
  {
   "cell_type": "code",
   "execution_count": 6,
   "metadata": {},
   "outputs": [
    {
     "name": "stderr",
     "output_type": "stream",
     "text": [
      "C:\\Users\\mulli\\Anaconda3\\lib\\site-packages\\ipykernel_launcher.py:1: SettingWithCopyWarning: \n",
      "A value is trying to be set on a copy of a slice from a DataFrame.\n",
      "Try using .loc[row_indexer,col_indexer] = value instead\n",
      "\n",
      "See the caveats in the documentation: http://pandas.pydata.org/pandas-docs/stable/user_guide/indexing.html#returning-a-view-versus-a-copy\n",
      "  \"\"\"Entry point for launching an IPython kernel.\n"
     ]
    },
    {
     "data": {
      "text/html": [
       "<div>\n",
       "<style scoped>\n",
       "    .dataframe tbody tr th:only-of-type {\n",
       "        vertical-align: middle;\n",
       "    }\n",
       "\n",
       "    .dataframe tbody tr th {\n",
       "        vertical-align: top;\n",
       "    }\n",
       "\n",
       "    .dataframe thead th {\n",
       "        text-align: right;\n",
       "    }\n",
       "</style>\n",
       "<table border=\"1\" class=\"dataframe\">\n",
       "  <thead>\n",
       "    <tr style=\"text-align: right;\">\n",
       "      <th></th>\n",
       "      <th>comment</th>\n",
       "      <th>rating</th>\n",
       "    </tr>\n",
       "  </thead>\n",
       "  <tbody>\n",
       "    <tr>\n",
       "      <td>0</td>\n",
       "      <td>accueil sympa pas mal d’attente au final le ke...</td>\n",
       "      <td>3.0</td>\n",
       "    </tr>\n",
       "    <tr>\n",
       "      <td>1</td>\n",
       "      <td>l’accueil est bonne mais les sandwichs mauvais...</td>\n",
       "      <td>1.0</td>\n",
       "    </tr>\n",
       "    <tr>\n",
       "      <td>2</td>\n",
       "      <td>en balade dans le quartier nous cherchons un k...</td>\n",
       "      <td>3.0</td>\n",
       "    </tr>\n",
       "    <tr>\n",
       "      <td>3</td>\n",
       "      <td>kebab identique à ailleurs cela reste un kebab...</td>\n",
       "      <td>3.0</td>\n",
       "    </tr>\n",
       "    <tr>\n",
       "      <td>4</td>\n",
       "      <td>au moment où je rédige cet avis le restaurant ...</td>\n",
       "      <td>1.0</td>\n",
       "    </tr>\n",
       "    <tr>\n",
       "      <td>...</td>\n",
       "      <td>...</td>\n",
       "      <td>...</td>\n",
       "    </tr>\n",
       "    <tr>\n",
       "      <td>13305</td>\n",
       "      <td>ce n'est pas difficile face à l'elysee vous re...</td>\n",
       "      <td>5.0</td>\n",
       "    </tr>\n",
       "    <tr>\n",
       "      <td>13306</td>\n",
       "      <td>nous avons vraiment passé un excellent moment ...</td>\n",
       "      <td>5.0</td>\n",
       "    </tr>\n",
       "    <tr>\n",
       "      <td>13307</td>\n",
       "      <td>nous arrivons au service de 21h heure à laquel...</td>\n",
       "      <td>5.0</td>\n",
       "    </tr>\n",
       "    <tr>\n",
       "      <td>13308</td>\n",
       "      <td>ici comme à l'eden roc ou dans un autre hotel ...</td>\n",
       "      <td>5.0</td>\n",
       "    </tr>\n",
       "    <tr>\n",
       "      <td>13309</td>\n",
       "      <td>excellente pizzaria. un accueil très chaleureu...</td>\n",
       "      <td>5.0</td>\n",
       "    </tr>\n",
       "  </tbody>\n",
       "</table>\n",
       "<p>13310 rows × 2 columns</p>\n",
       "</div>"
      ],
      "text/plain": [
       "                                                 comment  rating\n",
       "0      accueil sympa pas mal d’attente au final le ke...     3.0\n",
       "1      l’accueil est bonne mais les sandwichs mauvais...     1.0\n",
       "2      en balade dans le quartier nous cherchons un k...     3.0\n",
       "3      kebab identique à ailleurs cela reste un kebab...     3.0\n",
       "4      au moment où je rédige cet avis le restaurant ...     1.0\n",
       "...                                                  ...     ...\n",
       "13305  ce n'est pas difficile face à l'elysee vous re...     5.0\n",
       "13306  nous avons vraiment passé un excellent moment ...     5.0\n",
       "13307  nous arrivons au service de 21h heure à laquel...     5.0\n",
       "13308  ici comme à l'eden roc ou dans un autre hotel ...     5.0\n",
       "13309  excellente pizzaria. un accueil très chaleureu...     5.0\n",
       "\n",
       "[13310 rows x 2 columns]"
      ]
     },
     "execution_count": 6,
     "metadata": {},
     "output_type": "execute_result"
    }
   ],
   "source": [
    "comments['comment'] = comments['comment'].map(lambda x: x.lower())\n",
    "comments"
   ]
  },
  {
   "cell_type": "code",
   "execution_count": 23,
   "metadata": {},
   "outputs": [],
   "source": [
    "vec = CountVectorizer(stop_words = 'english')\n",
    "X = vec.fit_transform(df.comment).toarray()\n",
    "df.loc[df[\"rating\"]>2,\"sentiment\"] = \"positive\"\n",
    "df.loc[df[\"rating\"]<=2,\"sentiment\"] = \"negative\"\n",
    "y = df[\"sentiment\"]"
   ]
  },
  {
   "cell_type": "code",
   "execution_count": 31,
   "metadata": {},
   "outputs": [],
   "source": [
    "X_train, X_test, y_train, y_test = train_test_split(X ,y , stratify=y, test_size=0.3, random_state = 1)\n"
   ]
  },
  {
   "cell_type": "code",
   "execution_count": 27,
   "metadata": {},
   "outputs": [],
   "source": [
    "reg = LogisticRegression()"
   ]
  },
  {
   "cell_type": "code",
   "execution_count": 32,
   "metadata": {},
   "outputs": [
    {
     "name": "stderr",
     "output_type": "stream",
     "text": [
      "C:\\Users\\mulli\\Anaconda3\\lib\\site-packages\\sklearn\\linear_model\\logistic.py:432: FutureWarning: Default solver will be changed to 'lbfgs' in 0.22. Specify a solver to silence this warning.\n",
      "  FutureWarning)\n"
     ]
    },
    {
     "data": {
      "text/plain": [
       "LogisticRegression(C=1.0, class_weight=None, dual=False, fit_intercept=True,\n",
       "                   intercept_scaling=1, l1_ratio=None, max_iter=100,\n",
       "                   multi_class='warn', n_jobs=None, penalty='l2',\n",
       "                   random_state=None, solver='warn', tol=0.0001, verbose=0,\n",
       "                   warm_start=False)"
      ]
     },
     "execution_count": 32,
     "metadata": {},
     "output_type": "execute_result"
    }
   ],
   "source": [
    "reg.fit(X_train,y_train)"
   ]
  },
  {
   "cell_type": "code",
   "execution_count": 33,
   "metadata": {},
   "outputs": [],
   "source": [
    "Ypred=reg.predict(X_test)"
   ]
  },
  {
   "cell_type": "code",
   "execution_count": 39,
   "metadata": {},
   "outputs": [
    {
     "data": {
      "text/plain": [
       "0.8968194340095167"
      ]
     },
     "execution_count": 39,
     "metadata": {},
     "output_type": "execute_result"
    }
   ],
   "source": [
    "accuracy_score(y_test,Ypred)\n"
   ]
  },
  {
   "cell_type": "code",
   "execution_count": null,
   "metadata": {},
   "outputs": [],
   "source": [
    "#https://ledatascientist.com/streamlit-donner-une-vie-a-vos-modeles-de-ml/"
   ]
  }
 ],
 "metadata": {
  "kernelspec": {
   "display_name": "Python 3",
   "language": "python",
   "name": "python3"
  },
  "language_info": {
   "codemirror_mode": {
    "name": "ipython",
    "version": 3
   },
   "file_extension": ".py",
   "mimetype": "text/x-python",
   "name": "python",
   "nbconvert_exporter": "python",
   "pygments_lexer": "ipython3",
   "version": "3.7.4"
  }
 },
 "nbformat": 4,
 "nbformat_minor": 2
}

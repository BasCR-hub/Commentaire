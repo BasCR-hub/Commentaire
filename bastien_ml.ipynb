{
 "cells": [
  {
   "cell_type": "code",
   "execution_count": 208,
   "metadata": {},
   "outputs": [
    {
     "name": "stderr",
     "output_type": "stream",
     "text": [
      "C:\\Users\\bcarniel\\AppData\\Local\\Continuum\\lib\\site-packages\\statsmodels\\tools\\_testing.py:19: FutureWarning: pandas.util.testing is deprecated. Use the functions in the public API at pandas.testing instead.\n",
      "  import pandas.util.testing as tm\n",
      "[nltk_data] Downloading package stopwords to\n",
      "[nltk_data]     C:\\Users\\bcarniel\\AppData\\Roaming\\nltk_data...\n",
      "[nltk_data]   Package stopwords is already up-to-date!\n"
     ]
    }
   ],
   "source": [
    "import os\n",
    "import fnmatch\n",
    "from textblob import TextBlob\n",
    "import pandas as pd\n",
    "from sklearn.feature_extraction.text import TfidfVectorizer\n",
    "from nltk.corpus import stopwords\n",
    "from nltk import pos_tag,pos_tag_sents\n",
    "import re\n",
    "from sklearn.svm import SVC, LinearSVC\n",
    "from sklearn.metrics import classification_report, accuracy_score, confusion_matrix\n",
    "from sklearn.model_selection import train_test_split  \n",
    "from sklearn import metrics\n",
    "from sklearn import svm\n",
    "import pickle\n",
    "from nltk.corpus import stopwords\n",
    "import numpy as np\n",
    "# import tensorflow as tf\n",
    "# from tensorflow import keras\n",
    "import pandas as pd\n",
    "import seaborn as sns\n",
    "from pylab import rcParams\n",
    "import string\n",
    "import re\n",
    "import matplotlib.pyplot as plt\n",
    "import math\n",
    "from matplotlib import rc\n",
    "from sklearn.model_selection import train_test_split\n",
    "from collections import Counter, defaultdict\n",
    "from bs4 import BeautifulSoup\n",
    "from sklearn.metrics import accuracy_score\n",
    "from sklearn.metrics import classification_report, confusion_matrix\n",
    "import nltk\n",
    "from nltk.corpus import stopwords\n",
    "from sklearn.datasets import load_files\n",
    "nltk.download('stopwords')\n",
    "import pickle\n",
    "from nltk.corpus import stopwords\n"
   ]
  },
  {
   "cell_type": "code",
   "execution_count": 201,
   "metadata": {},
   "outputs": [
    {
     "data": {
      "text/html": [
       "<div>\n",
       "<style scoped>\n",
       "    .dataframe tbody tr th:only-of-type {\n",
       "        vertical-align: middle;\n",
       "    }\n",
       "\n",
       "    .dataframe tbody tr th {\n",
       "        vertical-align: top;\n",
       "    }\n",
       "\n",
       "    .dataframe thead th {\n",
       "        text-align: right;\n",
       "    }\n",
       "</style>\n",
       "<table border=\"1\" class=\"dataframe\">\n",
       "  <thead>\n",
       "    <tr style=\"text-align: right;\">\n",
       "      <th></th>\n",
       "      <th>comment</th>\n",
       "      <th>rating</th>\n",
       "      <th>bonus_info</th>\n",
       "      <th>city</th>\n",
       "    </tr>\n",
       "  </thead>\n",
       "  <tbody>\n",
       "    <tr>\n",
       "      <th>0</th>\n",
       "      <td>Très bon restaurant. La cuisine est délicieuse...</td>\n",
       "      <td>5.0</td>\n",
       "      <td>Détails FOURCHETTE DE PRIX 3 154 AMD - 5 256 A...</td>\n",
       "      <td>Paris</td>\n",
       "    </tr>\n",
       "    <tr>\n",
       "      <th>1</th>\n",
       "      <td>Restaurant qui n'est pas très grand (20-30 pla...</td>\n",
       "      <td>5.0</td>\n",
       "      <td>Détails FOURCHETTE DE PRIX 3 154 AMD - 5 256 A...</td>\n",
       "      <td>Paris</td>\n",
       "    </tr>\n",
       "    <tr>\n",
       "      <th>2</th>\n",
       "      <td>Très bonne cuisine avec des produits frais. No...</td>\n",
       "      <td>5.0</td>\n",
       "      <td>Détails FOURCHETTE DE PRIX 3 154 AMD - 5 256 A...</td>\n",
       "      <td>Paris</td>\n",
       "    </tr>\n",
       "    <tr>\n",
       "      <th>3</th>\n",
       "      <td>J'habite le quartier je suis entré ici un peu ...</td>\n",
       "      <td>5.0</td>\n",
       "      <td>Détails FOURCHETTE DE PRIX 3 154 AMD - 5 256 A...</td>\n",
       "      <td>Paris</td>\n",
       "    </tr>\n",
       "    <tr>\n",
       "      <th>4</th>\n",
       "      <td>Dans un cadre moderne et l’esprit fast food. M...</td>\n",
       "      <td>5.0</td>\n",
       "      <td>Détails FOURCHETTE DE PRIX 3 154 AMD - 5 256 A...</td>\n",
       "      <td>Paris</td>\n",
       "    </tr>\n",
       "    <tr>\n",
       "      <th>...</th>\n",
       "      <td>...</td>\n",
       "      <td>...</td>\n",
       "      <td>...</td>\n",
       "      <td>...</td>\n",
       "    </tr>\n",
       "    <tr>\n",
       "      <th>5</th>\n",
       "      <td>A faire c'était vraiment bon je recommande Tou...</td>\n",
       "      <td>5.0</td>\n",
       "      <td>Détails FOURCHETTE DE PRIX 5 256 AMD - 10 512 ...</td>\n",
       "      <td>Paris</td>\n",
       "    </tr>\n",
       "    <tr>\n",
       "      <th>6</th>\n",
       "      <td>Il y a la queue mais franchement ce n'est pas ...</td>\n",
       "      <td>2.0</td>\n",
       "      <td>Détails FOURCHETTE DE PRIX 5 256 AMD - 10 512 ...</td>\n",
       "      <td>Paris</td>\n",
       "    </tr>\n",
       "    <tr>\n",
       "      <th>7</th>\n",
       "      <td>On nous donne un ticket pour faire la queue ca...</td>\n",
       "      <td>4.0</td>\n",
       "      <td>Détails FOURCHETTE DE PRIX 5 256 AMD - 10 512 ...</td>\n",
       "      <td>Paris</td>\n",
       "    </tr>\n",
       "    <tr>\n",
       "      <th>8</th>\n",
       "      <td>Très bon classique quasiment pas d'attente et ...</td>\n",
       "      <td>5.0</td>\n",
       "      <td>Détails FOURCHETTE DE PRIX 5 256 AMD - 10 512 ...</td>\n",
       "      <td>Paris</td>\n",
       "    </tr>\n",
       "    <tr>\n",
       "      <th>9</th>\n",
       "      <td>Nous cherchions un plat qui change de nos habi...</td>\n",
       "      <td>4.0</td>\n",
       "      <td>Détails FOURCHETTE DE PRIX 5 256 AMD - 10 512 ...</td>\n",
       "      <td>Paris</td>\n",
       "    </tr>\n",
       "  </tbody>\n",
       "</table>\n",
       "<p>27790 rows × 4 columns</p>\n",
       "</div>"
      ],
      "text/plain": [
       "                                              comment  rating  \\\n",
       "0   Très bon restaurant. La cuisine est délicieuse...     5.0   \n",
       "1   Restaurant qui n'est pas très grand (20-30 pla...     5.0   \n",
       "2   Très bonne cuisine avec des produits frais. No...     5.0   \n",
       "3   J'habite le quartier je suis entré ici un peu ...     5.0   \n",
       "4   Dans un cadre moderne et l’esprit fast food. M...     5.0   \n",
       "..                                                ...     ...   \n",
       "5   A faire c'était vraiment bon je recommande Tou...     5.0   \n",
       "6   Il y a la queue mais franchement ce n'est pas ...     2.0   \n",
       "7   On nous donne un ticket pour faire la queue ca...     4.0   \n",
       "8   Très bon classique quasiment pas d'attente et ...     5.0   \n",
       "9   Nous cherchions un plat qui change de nos habi...     4.0   \n",
       "\n",
       "                                           bonus_info   city  \n",
       "0   Détails FOURCHETTE DE PRIX 3 154 AMD - 5 256 A...  Paris  \n",
       "1   Détails FOURCHETTE DE PRIX 3 154 AMD - 5 256 A...  Paris  \n",
       "2   Détails FOURCHETTE DE PRIX 3 154 AMD - 5 256 A...  Paris  \n",
       "3   Détails FOURCHETTE DE PRIX 3 154 AMD - 5 256 A...  Paris  \n",
       "4   Détails FOURCHETTE DE PRIX 3 154 AMD - 5 256 A...  Paris  \n",
       "..                                                ...    ...  \n",
       "5   Détails FOURCHETTE DE PRIX 5 256 AMD - 10 512 ...  Paris  \n",
       "6   Détails FOURCHETTE DE PRIX 5 256 AMD - 10 512 ...  Paris  \n",
       "7   Détails FOURCHETTE DE PRIX 5 256 AMD - 10 512 ...  Paris  \n",
       "8   Détails FOURCHETTE DE PRIX 5 256 AMD - 10 512 ...  Paris  \n",
       "9   Détails FOURCHETTE DE PRIX 5 256 AMD - 10 512 ...  Paris  \n",
       "\n",
       "[27790 rows x 4 columns]"
      ]
     },
     "execution_count": 201,
     "metadata": {},
     "output_type": "execute_result"
    }
   ],
   "source": [
    "df = pd.read_csv(r\"./finaldfs/masterdf_scrape.csv\",index_col = 0)\n",
    "df2 = pd.read_csv(r\"./finaldfs/masterdf2_scrape - Copie.csv\",index_col = 0)\n",
    "df3 = pd.read_csv(r\"./finaldfs/masterdf3_scrape.csv\",index_col = 0)\n",
    "df4 = pd.read_csv(r\"./finaldfs/masterdf3_scrape_new.csv\",index_col = 0)\n",
    "df5 = pd.read_csv(r\"./finaldfs/masterdf3_scrape.csv\",index_col = 0)\n",
    "\n",
    "\n",
    "df"
   ]
  },
  {
   "cell_type": "code",
   "execution_count": 202,
   "metadata": {},
   "outputs": [],
   "source": [
    "df = df.append(df2)\n",
    "df = df.append(df3)\n",
    "df= df.append(df4)\n",
    "df = df.append(df5)"
   ]
  },
  {
   "cell_type": "code",
   "execution_count": 203,
   "metadata": {},
   "outputs": [
    {
     "data": {
      "text/plain": [
       "103200"
      ]
     },
     "execution_count": 203,
     "metadata": {},
     "output_type": "execute_result"
    }
   ],
   "source": [
    "len(df)"
   ]
  },
  {
   "cell_type": "code",
   "execution_count": 204,
   "metadata": {},
   "outputs": [],
   "source": [
    "df.loc[df[\"rating\"]>=4,\"sentiment\"] = \"Positive\"\n",
    "df.loc[df[\"rating\"]==3,\"sentiment\"] = \"Neutral\"\n",
    "df.loc[df[\"rating\"]<=2,\"sentiment\"] = \"Negative\"\n"
   ]
  },
  {
   "cell_type": "code",
   "execution_count": 206,
   "metadata": {},
   "outputs": [],
   "source": [
    "df.to_csv(\"df_all_comments.csv\")"
   ]
  },
  {
   "cell_type": "code",
   "execution_count": 205,
   "metadata": {},
   "outputs": [
    {
     "data": {
      "text/plain": [
       "Positive    94890\n",
       "Neutral      5221\n",
       "Negative     3089\n",
       "Name: sentiment, dtype: int64"
      ]
     },
     "execution_count": 205,
     "metadata": {},
     "output_type": "execute_result"
    }
   ],
   "source": [
    "df.sentiment.value_counts()"
   ]
  },
  {
   "cell_type": "code",
   "execution_count": 207,
   "metadata": {},
   "outputs": [],
   "source": [
    "tempdf = df.loc[df[\"sentiment\"] == \"Positive\"].sample(5000)\n",
    "df_resampled = df[df[\"sentiment\"]!=\"Positive\"]\n",
    "df_resampled = df_resampled.append(tempdf)\n",
    "df_resampled.to_csv(\"resampled_comments.csv\")"
   ]
  },
  {
   "cell_type": "code",
   "execution_count": 18,
   "metadata": {},
   "outputs": [
    {
     "data": {
      "text/html": [
       "<div>\n",
       "<style scoped>\n",
       "    .dataframe tbody tr th:only-of-type {\n",
       "        vertical-align: middle;\n",
       "    }\n",
       "\n",
       "    .dataframe tbody tr th {\n",
       "        vertical-align: top;\n",
       "    }\n",
       "\n",
       "    .dataframe thead th {\n",
       "        text-align: right;\n",
       "    }\n",
       "</style>\n",
       "<table border=\"1\" class=\"dataframe\">\n",
       "  <thead>\n",
       "    <tr style=\"text-align: right;\">\n",
       "      <th></th>\n",
       "      <th>comment</th>\n",
       "      <th>rating</th>\n",
       "      <th>bonus_info</th>\n",
       "      <th>city</th>\n",
       "      <th>sentiment</th>\n",
       "    </tr>\n",
       "  </thead>\n",
       "  <tbody>\n",
       "    <tr>\n",
       "      <th>1</th>\n",
       "      <td>Accueil sympa pas mal d’attente au final le ke...</td>\n",
       "      <td>3.0</td>\n",
       "      <td>Détails FOURCHETTE DE PRIX 2 895 AMD - 12 061 ...</td>\n",
       "      <td>Paris</td>\n",
       "      <td>Neutral</td>\n",
       "    </tr>\n",
       "    <tr>\n",
       "      <th>7</th>\n",
       "      <td>L’accueil est bonne mais les sandwichs mauvais...</td>\n",
       "      <td>1.0</td>\n",
       "      <td>Détails FOURCHETTE DE PRIX 2 895 AMD - 12 061 ...</td>\n",
       "      <td>Paris</td>\n",
       "      <td>Negative</td>\n",
       "    </tr>\n",
       "    <tr>\n",
       "      <th>1</th>\n",
       "      <td>En balade dans le quartier nous cherchons un k...</td>\n",
       "      <td>3.0</td>\n",
       "      <td>Détails FOURCHETTE DE PRIX 2 895 AMD - 12 061 ...</td>\n",
       "      <td>Paris</td>\n",
       "      <td>Neutral</td>\n",
       "    </tr>\n",
       "    <tr>\n",
       "      <th>6</th>\n",
       "      <td>kebab identique à ailleurs cela reste un kebab...</td>\n",
       "      <td>3.0</td>\n",
       "      <td>Détails FOURCHETTE DE PRIX 2 895 AMD - 12 061 ...</td>\n",
       "      <td>Paris</td>\n",
       "      <td>Neutral</td>\n",
       "    </tr>\n",
       "    <tr>\n",
       "      <th>5</th>\n",
       "      <td>Au moment où je rédige cet avis le restaurant ...</td>\n",
       "      <td>1.0</td>\n",
       "      <td>Détails FOURCHETTE DE PRIX 2 895 AMD - 12 061 ...</td>\n",
       "      <td>Paris</td>\n",
       "      <td>Negative</td>\n",
       "    </tr>\n",
       "    <tr>\n",
       "      <th>...</th>\n",
       "      <td>...</td>\n",
       "      <td>...</td>\n",
       "      <td>...</td>\n",
       "      <td>...</td>\n",
       "      <td>...</td>\n",
       "    </tr>\n",
       "    <tr>\n",
       "      <th>0</th>\n",
       "      <td>Bel endroit petit mais intime. Jolie décoratio...</td>\n",
       "      <td>5.0</td>\n",
       "      <td>Détails FOURCHETTE DE PRIX 1 577 AMD - 14 717 ...</td>\n",
       "      <td>Paris</td>\n",
       "      <td>Positive</td>\n",
       "    </tr>\n",
       "    <tr>\n",
       "      <th>0</th>\n",
       "      <td>Les plats mitonnés avec des produits frais vou...</td>\n",
       "      <td>5.0</td>\n",
       "      <td>Détails FOURCHETTE DE PRIX 4 731 AMD - 7 884 A...</td>\n",
       "      <td>Paris</td>\n",
       "      <td>Positive</td>\n",
       "    </tr>\n",
       "    <tr>\n",
       "      <th>3</th>\n",
       "      <td>l'un des meilleur Restaurant Iranienne a Paris...</td>\n",
       "      <td>5.0</td>\n",
       "      <td>Détails CUISINES Moyen-Orient Perse Grillades ...</td>\n",
       "      <td>Paris</td>\n",
       "      <td>Positive</td>\n",
       "    </tr>\n",
       "    <tr>\n",
       "      <th>1</th>\n",
       "      <td>Si vous voulez manger une choucroute ou des fr...</td>\n",
       "      <td>4.0</td>\n",
       "      <td>Détails FOURCHETTE DE PRIX 5 256 AMD - 13 140 ...</td>\n",
       "      <td>Paris</td>\n",
       "      <td>Positive</td>\n",
       "    </tr>\n",
       "    <tr>\n",
       "      <th>5</th>\n",
       "      <td>Parfait les serveurs super sympa la nourriture...</td>\n",
       "      <td>5.0</td>\n",
       "      <td>Détails FOURCHETTE DE PRIX 6 307 AMD - 15 768 ...</td>\n",
       "      <td>Paris</td>\n",
       "      <td>Positive</td>\n",
       "    </tr>\n",
       "  </tbody>\n",
       "</table>\n",
       "<p>1078 rows × 5 columns</p>\n",
       "</div>"
      ],
      "text/plain": [
       "                                              comment  rating  \\\n",
       "1   Accueil sympa pas mal d’attente au final le ke...     3.0   \n",
       "7   L’accueil est bonne mais les sandwichs mauvais...     1.0   \n",
       "1   En balade dans le quartier nous cherchons un k...     3.0   \n",
       "6   kebab identique à ailleurs cela reste un kebab...     3.0   \n",
       "5   Au moment où je rédige cet avis le restaurant ...     1.0   \n",
       "..                                                ...     ...   \n",
       "0   Bel endroit petit mais intime. Jolie décoratio...     5.0   \n",
       "0   Les plats mitonnés avec des produits frais vou...     5.0   \n",
       "3   l'un des meilleur Restaurant Iranienne a Paris...     5.0   \n",
       "1   Si vous voulez manger une choucroute ou des fr...     4.0   \n",
       "5   Parfait les serveurs super sympa la nourriture...     5.0   \n",
       "\n",
       "                                           bonus_info   city sentiment  \n",
       "1   Détails FOURCHETTE DE PRIX 2 895 AMD - 12 061 ...  Paris   Neutral  \n",
       "7   Détails FOURCHETTE DE PRIX 2 895 AMD - 12 061 ...  Paris  Negative  \n",
       "1   Détails FOURCHETTE DE PRIX 2 895 AMD - 12 061 ...  Paris   Neutral  \n",
       "6   Détails FOURCHETTE DE PRIX 2 895 AMD - 12 061 ...  Paris   Neutral  \n",
       "5   Détails FOURCHETTE DE PRIX 2 895 AMD - 12 061 ...  Paris  Negative  \n",
       "..                                                ...    ...       ...  \n",
       "0   Détails FOURCHETTE DE PRIX 1 577 AMD - 14 717 ...  Paris  Positive  \n",
       "0   Détails FOURCHETTE DE PRIX 4 731 AMD - 7 884 A...  Paris  Positive  \n",
       "3   Détails CUISINES Moyen-Orient Perse Grillades ...  Paris  Positive  \n",
       "1   Détails FOURCHETTE DE PRIX 5 256 AMD - 13 140 ...  Paris  Positive  \n",
       "5   Détails FOURCHETTE DE PRIX 6 307 AMD - 15 768 ...  Paris  Positive  \n",
       "\n",
       "[1078 rows x 5 columns]"
      ]
     },
     "execution_count": 18,
     "metadata": {},
     "output_type": "execute_result"
    }
   ],
   "source": [
    "df_resampled "
   ]
  },
  {
   "cell_type": "code",
   "execution_count": 20,
   "metadata": {
    "scrolled": true
   },
   "outputs": [
    {
     "data": {
      "text/plain": [
       "['Accueil sympa pas mal d’attente au final le kebab est correct sans être exceptionnel. Seulement deux places assises au comptoir il vaut mieux prendre à emporter.',\n",
       " 'L’accueil est bonne mais les sandwichs mauvais de plus il se trompe de commande Je déconseille De plus il dis à ses clients de mettre 5 étoiles inadmissible voilà pourquoi ce classement honteuxPlus',\n",
       " 'En balade dans le quartier nous cherchons un kebab et voici que Tripadvisor nous indique un restaurant dans le coin ET dans le TOP 20 des meilleurs endroits de Paris. Tout cela est bien sûr intriguant et voilà ma curiosité piquée. Déception le lieu sert...Plus',\n",
       " 'kebab identique à ailleurs cela reste un kebab pas transcendant !! mais tout ces avis positif avec un seul avis par personne ou avez vous trouvé c est clients imaginaire en plus autant ???Plus',\n",
       " \"Au moment où je rédige cet avis le restaurant est classé 11eme sur TripAdvisor. Je ne me suis pas arrêté a simplement croire que c'était des personnes sans aucun jugement. Je m’es suis alors rendu un midi afin d’avoir ma propre opinion sur ce restaurant....Plus\",\n",
       " 'Comment reconnaître des avis laissés par un patron escroc sur son propre restaurant : c\\'est simple 90% des \"personnes\" qui laissent un avis n\\'ont laissé qu\\'un seul avis sur trip advisor comme par hasard. HONTEUXPlus',\n",
       " 'Ce n’est pas possible que cet endroit soit classé comme meilleur resto/endroit de mon quartier Il est évident que TripAdvisor vent des avisPlus',\n",
       " 'Très surpris du nombre de profil avec 1 seul commentaire... bref ça sent l’arnaque à plein nez. Alors passez votre cheminPlus',\n",
       " 'Pas de salle juste deux tabourets a la limite de la rue kebab très gras pain maison bof bof grec poivré.Plus',\n",
       " \"Je suis allée dans ce kebab après avoir vu les avis positives. Ce kebab ne mérite pas du tout 5*il est tout sauf bon ! Le sandwich grec n'est pas bon les frites molles et l'endroit est sale... Le gérant doit surement truquer les avis...Plus\"]"
      ]
     },
     "execution_count": 20,
     "metadata": {},
     "output_type": "execute_result"
    }
   ],
   "source": [
    "df_resampled.comment.to_list()[:10]"
   ]
  },
  {
   "cell_type": "code",
   "execution_count": 64,
   "metadata": {},
   "outputs": [
    {
     "data": {
      "text/html": [
       "<div>\n",
       "<style scoped>\n",
       "    .dataframe tbody tr th:only-of-type {\n",
       "        vertical-align: middle;\n",
       "    }\n",
       "\n",
       "    .dataframe tbody tr th {\n",
       "        vertical-align: top;\n",
       "    }\n",
       "\n",
       "    .dataframe thead th {\n",
       "        text-align: right;\n",
       "    }\n",
       "</style>\n",
       "<table border=\"1\" class=\"dataframe\">\n",
       "  <thead>\n",
       "    <tr style=\"text-align: right;\">\n",
       "      <th></th>\n",
       "      <th>comment</th>\n",
       "      <th>rating</th>\n",
       "      <th>bonus_info</th>\n",
       "      <th>city</th>\n",
       "      <th>sentiment</th>\n",
       "    </tr>\n",
       "  </thead>\n",
       "  <tbody>\n",
       "    <tr>\n",
       "      <th>1</th>\n",
       "      <td>Accueil sympa pas mal d’attente au final le ke...</td>\n",
       "      <td>3.0</td>\n",
       "      <td>Détails FOURCHETTE DE PRIX 2 895 AMD - 12 061 ...</td>\n",
       "      <td>Paris</td>\n",
       "      <td>Neutral</td>\n",
       "    </tr>\n",
       "    <tr>\n",
       "      <th>7</th>\n",
       "      <td>L’accueil est bonne mais les sandwichs mauvais...</td>\n",
       "      <td>1.0</td>\n",
       "      <td>Détails FOURCHETTE DE PRIX 2 895 AMD - 12 061 ...</td>\n",
       "      <td>Paris</td>\n",
       "      <td>Negative</td>\n",
       "    </tr>\n",
       "    <tr>\n",
       "      <th>1</th>\n",
       "      <td>En balade dans le quartier nous cherchons un k...</td>\n",
       "      <td>3.0</td>\n",
       "      <td>Détails FOURCHETTE DE PRIX 2 895 AMD - 12 061 ...</td>\n",
       "      <td>Paris</td>\n",
       "      <td>Neutral</td>\n",
       "    </tr>\n",
       "    <tr>\n",
       "      <th>6</th>\n",
       "      <td>kebab identique à ailleurs cela reste un kebab...</td>\n",
       "      <td>3.0</td>\n",
       "      <td>Détails FOURCHETTE DE PRIX 2 895 AMD - 12 061 ...</td>\n",
       "      <td>Paris</td>\n",
       "      <td>Neutral</td>\n",
       "    </tr>\n",
       "    <tr>\n",
       "      <th>5</th>\n",
       "      <td>Au moment où je rédige cet avis le restaurant ...</td>\n",
       "      <td>1.0</td>\n",
       "      <td>Détails FOURCHETTE DE PRIX 2 895 AMD - 12 061 ...</td>\n",
       "      <td>Paris</td>\n",
       "      <td>Negative</td>\n",
       "    </tr>\n",
       "    <tr>\n",
       "      <th>...</th>\n",
       "      <td>...</td>\n",
       "      <td>...</td>\n",
       "      <td>...</td>\n",
       "      <td>...</td>\n",
       "      <td>...</td>\n",
       "    </tr>\n",
       "    <tr>\n",
       "      <th>0</th>\n",
       "      <td>Super restaurant proche des Champs Élysées acc...</td>\n",
       "      <td>5.0</td>\n",
       "      <td>Détails FOURCHETTE DE PRIX 15 768 AMD - 31 537...</td>\n",
       "      <td>Paris</td>\n",
       "      <td>Positive</td>\n",
       "    </tr>\n",
       "    <tr>\n",
       "      <th>9</th>\n",
       "      <td>Nous sommes tombés sur cet hôtel sur Trip Advi...</td>\n",
       "      <td>5.0</td>\n",
       "      <td>Détails CUISINES Italienne Française Pizza Eur...</td>\n",
       "      <td>Paris</td>\n",
       "      <td>Positive</td>\n",
       "    </tr>\n",
       "    <tr>\n",
       "      <th>6</th>\n",
       "      <td>Diner pour mon anniversaire nous partons évide...</td>\n",
       "      <td>5.0</td>\n",
       "      <td>Emplacement et coordonnées 5 rue Coq Heron 750...</td>\n",
       "      <td>Paris</td>\n",
       "      <td>Positive</td>\n",
       "    </tr>\n",
       "    <tr>\n",
       "      <th>0</th>\n",
       "      <td>Tout est top ! Quand on arrive on est super bi...</td>\n",
       "      <td>5.0</td>\n",
       "      <td>Détails CUISINES Française Steakhouse Européen...</td>\n",
       "      <td>Paris</td>\n",
       "      <td>Positive</td>\n",
       "    </tr>\n",
       "    <tr>\n",
       "      <th>2</th>\n",
       "      <td>De loin le meilleur resto des batignolles et u...</td>\n",
       "      <td>5.0</td>\n",
       "      <td>Détails FOURCHETTE DE PRIX 23 640 AMD - 30 877...</td>\n",
       "      <td>Paris</td>\n",
       "      <td>Positive</td>\n",
       "    </tr>\n",
       "  </tbody>\n",
       "</table>\n",
       "<p>3046 rows × 5 columns</p>\n",
       "</div>"
      ],
      "text/plain": [
       "                                              comment  rating  \\\n",
       "1   Accueil sympa pas mal d’attente au final le ke...     3.0   \n",
       "7   L’accueil est bonne mais les sandwichs mauvais...     1.0   \n",
       "1   En balade dans le quartier nous cherchons un k...     3.0   \n",
       "6   kebab identique à ailleurs cela reste un kebab...     3.0   \n",
       "5   Au moment où je rédige cet avis le restaurant ...     1.0   \n",
       "..                                                ...     ...   \n",
       "0   Super restaurant proche des Champs Élysées acc...     5.0   \n",
       "9   Nous sommes tombés sur cet hôtel sur Trip Advi...     5.0   \n",
       "6   Diner pour mon anniversaire nous partons évide...     5.0   \n",
       "0   Tout est top ! Quand on arrive on est super bi...     5.0   \n",
       "2   De loin le meilleur resto des batignolles et u...     5.0   \n",
       "\n",
       "                                           bonus_info   city sentiment  \n",
       "1   Détails FOURCHETTE DE PRIX 2 895 AMD - 12 061 ...  Paris   Neutral  \n",
       "7   Détails FOURCHETTE DE PRIX 2 895 AMD - 12 061 ...  Paris  Negative  \n",
       "1   Détails FOURCHETTE DE PRIX 2 895 AMD - 12 061 ...  Paris   Neutral  \n",
       "6   Détails FOURCHETTE DE PRIX 2 895 AMD - 12 061 ...  Paris   Neutral  \n",
       "5   Détails FOURCHETTE DE PRIX 2 895 AMD - 12 061 ...  Paris  Negative  \n",
       "..                                                ...    ...       ...  \n",
       "0   Détails FOURCHETTE DE PRIX 15 768 AMD - 31 537...  Paris  Positive  \n",
       "9   Détails CUISINES Italienne Française Pizza Eur...  Paris  Positive  \n",
       "6   Emplacement et coordonnées 5 rue Coq Heron 750...  Paris  Positive  \n",
       "0   Détails CUISINES Française Steakhouse Européen...  Paris  Positive  \n",
       "2   Détails FOURCHETTE DE PRIX 23 640 AMD - 30 877...  Paris  Positive  \n",
       "\n",
       "[3046 rows x 5 columns]"
      ]
     },
     "execution_count": 64,
     "metadata": {},
     "output_type": "execute_result"
    }
   ],
   "source": [
    "df_resampled = pd.read_csv(\"resampled_comments.csv\",index_col = 0)\n",
    "df_resampled"
   ]
  },
  {
   "cell_type": "code",
   "execution_count": 300,
   "metadata": {},
   "outputs": [],
   "source": [
    "from nltk.stem.snowball import SnowballStemmer\n",
    "\n",
    "\n",
    "df = pd.read_csv(\"resampled_comments.csv\",index_col = 0)\n",
    "\n",
    "def basic_preprocess(string):\n",
    "    string = string.replace(\"Plus\",'')\n",
    "    lst_to_remove = [\".\",\"!\",\"?\",\"/\",\"\\'\", \"’\"]         \n",
    "    string = string.lower()\n",
    "    for element in lst_to_remove:\n",
    "        string = string.replace(element,' ')\n",
    "    return string\n",
    "\n",
    "\n",
    "def remove_useless_words(string):\n",
    "    lst_useless_words = [\" le \",\" la \",\" dans \",\" je \",\" nous \",\" en \",\" les \",\" cet \",\" ce \",\" cette \",\n",
    "                         \" de \",\" des \",\" un \",\" une \",\" à \",\" au \", \"et\", \" il \", \" ça \", \" c \",\n",
    "                        \" sur \", \" son \", \" sa \", \" me \", \" par \", \" ces \", \" que \",\" je \",\"  \", \" ainsi \"]\n",
    "    for element in lst_useless_words:\n",
    "        string = string.replace(element,' ')\n",
    "    return string\n",
    "\n",
    "def tokenize(string):\n",
    "    toknizer = RegexpTokenizer(r'''\\w'|\\w+|[^\\w\\s]''')\n",
    "    string = toknizer.tokenize(string)\n",
    "    return string\n",
    "\n",
    "# def lemmatize(string):\n",
    "#     lemmatizer = spacy.load('fr_core_news_md')\n",
    "#     string=lemmatizer.lemmatize(string)\n",
    "# https://stackoverflow.com/questions/13131139/lemmatize-french-text\n",
    "#     return string\n",
    "\n",
    "def stem(string):\n",
    "    stemmer = SnowballStemmer(language='french')\n",
    "    string = stemmer.stem(string)\n",
    "    return string\n",
    "\n",
    "\n",
    "\n",
    "\n",
    "df[\"comment\"] = df[\"comment\"].apply(basic_preprocess)\n",
    "df[\"comment\"] = df[\"comment\"].apply(remove_useless_words)\n",
    "df[\"comment\"] = df[\"comment\"].apply(stem)\n",
    "\n",
    "# lemmatizer = FrenchLefffLemmatizer()\n",
    "# df['comment'] = df['comment'].apply(lambda x: \" \".join([lemmatizer.lemmatize(word) for word in x.split()]))\n"
   ]
  },
  {
   "cell_type": "code",
   "execution_count": 290,
   "metadata": {},
   "outputs": [],
   "source": [
    "from nltk.stem import LancasterStemmer, WordNetLemmatizer, PorterStemmer\n",
    "from nltk.stem.snowball import SnowballStemmer\n",
    "from nltk import RegexpTokenizer\n",
    "\n",
    "df = pd.read_csv(\"resampled_comments.csv\",index_col = 0)\n",
    "# df = df[df[\"sentiment\"]!=\"Neutral\"]\n",
    "## a essayer : tf-idf, tokenization, lemmatize\n",
    "\n",
    "\n",
    "## lemmatize vs stem : no diff (maybe stem slightly better?), tf-idf better than countvectorizer, \n",
    "\n",
    "\n",
    "## Change the reviews type to string\n",
    "df['comment'] = df['comment'].astype(str)\n",
    "\n",
    "# Tokenize\n",
    "# toknizer = RegexpTokenizer(r'''\\w'|\\w+|[^\\w\\s]''')\n",
    "# df['comment'] = df['comment'].apply(lambda row: toknizer.tokenize(row['comment']),axis= 1)\n",
    "\n",
    "\n",
    "## Lowercase all reviews\n",
    "df['comment'] = df['comment'].apply(lambda x: \" \".join(x.lower() for x in x.split()))\n",
    "df['comment']\n",
    "\n",
    "## remove punctuation\n",
    "df['comment'] = df['comment'].str.replace('[^\\w\\s]','')\n",
    "df['comment']\n",
    "\n",
    "## Stop Words\n",
    "stop = stopwords.words('french')\n",
    "df['comment'] = df['comment'].apply(lambda x: \" \".join(x for x in x.split() if x not in stop))\n",
    "df['comment']\n",
    "\n",
    "## Stemming\n",
    "# st = SnowballStemmer(language='french')\n",
    "# df['comment'] = df['comment'].apply(lambda x: \" \".join([st.stem(word) for word in x.split()]))\n",
    "# df['comment']\n",
    "\n",
    "\n",
    "## Lemmatizing\n",
    "# from french_lefff_lemmatizer.french_lefff_lemmatizer import FrenchLefffLemmatizer\n",
    "lemmatizer = FrenchLefffLemmatizer()\n",
    "df['comment'] = df['comment'].apply(lambda x: \" \".join([lemmatizer.lemmatize(word) for word in x.split()]))\n"
   ]
  },
  {
   "cell_type": "code",
   "execution_count": 312,
   "metadata": {},
   "outputs": [],
   "source": [
    "import re\n",
    "from sklearn.feature_extraction.text import CountVectorizer,TfidfVectorizer\n",
    "\n",
    "X = df[\"comment\"]\n",
    "y = df[\"sentiment\"]\n",
    "\n",
    "Xtrain,Xtest,Ytrain,Ytest = train_test_split(X,y,test_size = .2)\n",
    "\n",
    "\n",
    "tfidf_vectorizer = TfidfVectorizer(max_df = 0.7 , min_df = 0.01 , max_features = 1000,ngram_range=(1, 3)) \n",
    "tfidf_vectorizer.fit(Xtrain)\n",
    "Xtrain = cv.transform(Xtrain)\n",
    "Xtest = cv.transform(Xtest)\n",
    "\n",
    "\n",
    "# cv = CountVectorizer(binary=True, ngram_range=(1,3))\n",
    "# cv.fit(Xtrain)\n",
    "# Xtrain = cv.transform(Xtrain)\n",
    "# Xtest = cv.transform(Xtest)\n",
    "\n"
   ]
  },
  {
   "cell_type": "code",
   "execution_count": 310,
   "metadata": {},
   "outputs": [
    {
     "name": "stdout",
     "output_type": "stream",
     "text": [
      "c :  0.05 crossval accuracy :  0.8194966448132982\n",
      "c :  0.5 crossval accuracy :  0.828136994820024\n",
      "c :  2 crossval accuracy :  0.8258831649675727\n"
     ]
    }
   ],
   "source": [
    "from sklearn.linear_model import LogisticRegression\n",
    "from sklearn.metrics import accuracy_score\n",
    "from sklearn.model_selection import train_test_split,cross_val_score\n",
    "import warnings\n",
    "warnings.filterwarnings(\"ignore\")\n",
    "\n",
    "\n",
    "for c in [0.05, 0.5, 2]:\n",
    "    lr = LogisticRegression(C=c)\n",
    "    lr.fit(Xtrain, Ytrain)\n",
    "    scores = cross_val_score(lr, Xtrain, Ytrain, cv=5)\n",
    "    print(\"c : \", c, \"crossval accuracy : \", np.mean(scores))\n",
    "#     print(scores_mnb2, \"Avg accuracy MultinomialNB matrix: {}\".format(np.mean(scores_mnb2)))\n",
    "#     print (\"Accuracy for C=%s: %s\"\n",
    "#            % (c, accuracy_score(Ytest, lr.predict(Xtest))))"
   ]
  },
  {
   "cell_type": "code",
   "execution_count": 313,
   "metadata": {},
   "outputs": [
    {
     "name": "stdout",
     "output_type": "stream",
     "text": [
      "[0.82065728 0.80610329 0.8028169  0.80601221 0.81117896] Avg accuracy MultinomialNB matrix: 0.8093537268703817\n"
     ]
    }
   ],
   "source": [
    "from sklearn.naive_bayes import MultinomialNB\n",
    "\n",
    "mnb2 = MultinomialNB()\n",
    "mnb2.fit(Xtrain, Ytrain)\n",
    "scores_mnb2 = cross_val_score(mnb2, Xtrain, Ytrain, cv=5)\n",
    "print(scores_mnb2, \"Avg accuracy MultinomialNB: {}\".format(np.mean(scores_mnb2)))"
   ]
  },
  {
   "cell_type": "code",
   "execution_count": 327,
   "metadata": {},
   "outputs": [
    {
     "data": {
      "text/plain": [
       "SVC(gamma='auto', kernel='linear', probability=True)"
      ]
     },
     "execution_count": 327,
     "metadata": {},
     "output_type": "execute_result"
    }
   ],
   "source": [
    "from sklearn import svm\n",
    "\n",
    "SVM = svm.SVC(C=1.0, kernel='linear', gamma='auto',probability=True)\n",
    "SVM.fit(Xtrain, Ytrain)\n",
    "# scores_svm = cross_val_score(SVM, Xtrain, Ytrain, cv=5)\n",
    "# print(scores_svm, \"Avg accuracy SVM : {}\".format(np.mean(scores_svm)))\n",
    "\n"
   ]
  },
  {
   "cell_type": "code",
   "execution_count": 325,
   "metadata": {},
   "outputs": [
    {
     "name": "stdout",
     "output_type": "stream",
     "text": [
      "0.8414725770097671\n"
     ]
    }
   ],
   "source": [
    "from sklearn.ensemble import VotingClassifier\n",
    "\n",
    "estimators=[(\"SVM\", SVM), (\"NB\", mnb2), (\"log_reg\", lr)]\n",
    "\n",
    "ensemble = VotingClassifier(estimators, voting=\"hard\")\n",
    "\n",
    "ensemble.fit(Xtrain, Ytrain)\n",
    "predictions = ensemble.predict(Xtest)\n",
    "print(accuracy_score(predictions,Ytest))\n"
   ]
  },
  {
   "cell_type": "code",
   "execution_count": 328,
   "metadata": {
    "scrolled": true
   },
   "outputs": [
    {
     "name": "stdout",
     "output_type": "stream",
     "text": [
      "0.8467317806160781\n"
     ]
    }
   ],
   "source": [
    "from sklearn.ensemble import VotingClassifier\n",
    "\n",
    "estimators=[(\"SVM\", SVM), (\"NB\", mnb2), (\"log_reg\", lr)]\n",
    "\n",
    "ensemble = VotingClassifier(estimators, voting=\"soft\")\n",
    "\n",
    "ensemble.fit(Xtrain, Ytrain)\n",
    "predictions = ensemble.predict(Xtest)\n",
    "print(accuracy_score(predictions,Ytest))\n"
   ]
  },
  {
   "cell_type": "code",
   "execution_count": 329,
   "metadata": {},
   "outputs": [
    {
     "data": {
      "text/plain": [
       "0.8456048084147257"
      ]
     },
     "execution_count": 329,
     "metadata": {},
     "output_type": "execute_result"
    }
   ],
   "source": [
    "from sklearn.pipeline import make_pipeline\n",
    "from sklearn.ensemble import StackingClassifier\n",
    "\n",
    "estimators=[(\"SVM\", SVM), (\"NB\", mnb2), (\"log_reg\", lr)]\n",
    "clf = StackingClassifier(estimators=estimators, final_estimator=LogisticRegression())\n",
    "clf.fit(Xtrain, Ytrain).score(Xtest, Ytest)\n",
    "\n"
   ]
  },
  {
   "cell_type": "code",
   "execution_count": null,
   "metadata": {},
   "outputs": [],
   "source": []
  },
  {
   "cell_type": "code",
   "execution_count": 330,
   "metadata": {},
   "outputs": [
    {
     "data": {
      "text/plain": [
       "0.8437265214124718"
      ]
     },
     "execution_count": 330,
     "metadata": {},
     "output_type": "execute_result"
    }
   ],
   "source": [
    "from sklearn.ensemble import RandomForestClassifier\n",
    "\n",
    "rf = RandomForestClassifier(n_estimators=1000, max_depth = 10,min_samples_leaf = 10)\n",
    "clf.fit(Xtrain, Ytrain).score(Xtest, Ytest)"
   ]
  },
  {
   "cell_type": "code",
   "execution_count": 331,
   "metadata": {},
   "outputs": [
    {
     "name": "stdout",
     "output_type": "stream",
     "text": [
      "0.8471074380165289\n"
     ]
    }
   ],
   "source": [
    "from sklearn.ensemble import VotingClassifier\n",
    "\n",
    "estimators=[(\"SVM\", SVM), (\"NB\", mnb2), (\"log_reg\", lr), (\"rf\",rf)]\n",
    "\n",
    "ensemble = VotingClassifier(estimators, voting=\"soft\")\n",
    "\n",
    "ensemble.fit(Xtrain, Ytrain)\n",
    "predictions = ensemble.predict(Xtest)\n",
    "print(accuracy_score(predictions,Ytest))\n"
   ]
  },
  {
   "cell_type": "code",
   "execution_count": 332,
   "metadata": {},
   "outputs": [
    {
     "data": {
      "text/plain": [
       "0.8444778362133734"
      ]
     },
     "execution_count": 332,
     "metadata": {},
     "output_type": "execute_result"
    }
   ],
   "source": [
    "estimators=[(\"SVM\", SVM), (\"NB\", mnb2), (\"log_reg\", lr), (\"rf\",rf)]\n",
    "clf = StackingClassifier(estimators=estimators, final_estimator=LogisticRegression())\n",
    "clf.fit(Xtrain, Ytrain).score(Xtest, Ytest)\n"
   ]
  },
  {
   "cell_type": "code",
   "execution_count": 335,
   "metadata": {},
   "outputs": [
    {
     "data": {
      "text/plain": [
       "0.8264462809917356"
      ]
     },
     "execution_count": 335,
     "metadata": {},
     "output_type": "execute_result"
    }
   ],
   "source": [
    "from sklearn.ensemble import BaggingClassifier\n",
    "\n",
    "clf = BaggingClassifier(base_estimator=mnb2,n_estimators=10)\n",
    "clf.fit(Xtrain, Ytrain).score(Xtest, Ytest)\n",
    "\n"
   ]
  },
  {
   "cell_type": "code",
   "execution_count": 336,
   "metadata": {},
   "outputs": [
    {
     "data": {
      "text/plain": [
       "0.8444778362133734"
      ]
     },
     "execution_count": 336,
     "metadata": {},
     "output_type": "execute_result"
    }
   ],
   "source": [
    "clf = BaggingClassifier(base_estimator=lr,n_estimators=10)\n",
    "clf.fit(Xtrain, Ytrain).score(Xtest, Ytest)\n"
   ]
  },
  {
   "cell_type": "code",
   "execution_count": 337,
   "metadata": {},
   "outputs": [
    {
     "name": "stdout",
     "output_type": "stream",
     "text": [
      "('médiocre', 1.370492345777166)\n",
      "('mauvais', 1.0489188633096849)\n",
      "('décevant', 1.0187383448495495)\n",
      "('travail sympathique', 1.0041274579843755)\n",
      "('mauvaise', 0.9465170905364599)\n",
      "('rapide', -0.9287199777693992)\n",
      "('délicieux', -0.8701423212625325)\n",
      "('parfait', -0.843440924510212)\n",
      "('top', -0.7366676373945611)\n",
      "('excellent', -0.7199798953180998)\n"
     ]
    }
   ],
   "source": [
    "feature_to_coef = {\n",
    "    word: coef for word, coef in zip(\n",
    "        cv.get_feature_names(), lr.coef_[0]\n",
    "    )\n",
    "}\n",
    "for best_positive in sorted(\n",
    "    feature_to_coef.items(), \n",
    "    key=lambda x: x[1], \n",
    "    reverse=True)[:5]:\n",
    "    print (best_positive)\n",
    "\n",
    "for best_negative in sorted(\n",
    "    feature_to_coef.items(), \n",
    "    key=lambda x: x[1])[:5]:\n",
    "    print (best_negative)\n"
   ]
  },
  {
   "cell_type": "code",
   "execution_count": null,
   "metadata": {},
   "outputs": [],
   "source": []
  }
 ],
 "metadata": {
  "kernelspec": {
   "display_name": "Python 3",
   "language": "python",
   "name": "python3"
  },
  "language_info": {
   "codemirror_mode": {
    "name": "ipython",
    "version": 3
   },
   "file_extension": ".py",
   "mimetype": "text/x-python",
   "name": "python",
   "nbconvert_exporter": "python",
   "pygments_lexer": "ipython3",
   "version": "3.7.3"
  }
 },
 "nbformat": 4,
 "nbformat_minor": 2
}
